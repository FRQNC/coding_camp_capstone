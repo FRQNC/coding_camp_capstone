{
 "cells": [
  {
   "cell_type": "markdown",
   "id": "757bc366",
   "metadata": {
    "papermill": {
     "duration": 0.008701,
     "end_time": "2025-05-26T09:11:44.203383",
     "exception": false,
     "start_time": "2025-05-26T09:11:44.194682",
     "status": "completed"
    },
    "tags": []
   },
   "source": [
    "# Stress Detection using Wearable Devices to Enhance Well-Being | Data Analysis"
   ]
  },
  {
   "cell_type": "markdown",
   "id": "3331e797",
   "metadata": {
    "execution": {
     "iopub.execute_input": "2025-05-26T09:10:06.618022Z",
     "iopub.status.busy": "2025-05-26T09:10:06.617422Z",
     "iopub.status.idle": "2025-05-26T09:10:06.625233Z",
     "shell.execute_reply": "2025-05-26T09:10:06.623840Z",
     "shell.execute_reply.started": "2025-05-26T09:10:06.617987Z"
    },
    "papermill": {
     "duration": 0.006804,
     "end_time": "2025-05-26T09:11:44.220650",
     "exception": false,
     "start_time": "2025-05-26T09:11:44.213846",
     "status": "completed"
    },
    "tags": []
   },
   "source": [
    "ID Tim: CC25-CR439"
   ]
  },
  {
   "cell_type": "markdown",
   "id": "a4595c80",
   "metadata": {
    "papermill": {
     "duration": 0.007346,
     "end_time": "2025-05-26T09:11:44.235977",
     "exception": false,
     "start_time": "2025-05-26T09:11:44.228631",
     "status": "completed"
    },
    "tags": []
   },
   "source": [
    "## Informasi Dataset\n",
    "\n",
    "🧠 **Ringkasan**\n",
    "\n",
    "WESAD (WEarable Stress And Affect Detection) adalah dataset multimodal yang digunakan untuk mendeteksi stres dan emosi menggunakan perangkat wearable. Data dikumpulkan dari dua perangkat: RespiBAN (dikenakan di dada) dan Empatica E4 (dikenakan di pergelangan tangan). Dataset ini dirancang untuk mendukung penelitian dalam bidang affective computing, kesehatan mental, dan machine learning.\n",
    "\n",
    "👨‍🔬 **Informasi Umum**\n",
    "\n",
    "- Jumlah subjek: 17 (data dari 2 subjek tidak tersedia karena malfungsi sensor)\n",
    "- Perangkat:\n",
    "    - RespiBAN Professional (sensor di dada, sampling 700 Hz)\n",
    "    - Empatica E4 (sensor di pergelangan tangan, bermacam-macam sampling rate)\n",
    "- File utama:\n",
    "    - SX_readme.txt: deskripsi per subjek\n",
    "    - SX_quest.csv: informasi protokol dan kuesioner\n",
    "    - SX_respiban.txt: data mentah dari RespiBAN\n",
    "    - SX_E4_Data (Folder): data mentah dari Empatica E4\n",
    "    - SX.pkl: data yang telah disinkronisasi\n",
    "\n",
    "🧪 **Data Sensor**\n",
    "\n",
    "**RespiBAN (Dada)**\n",
    "- Sampling rate: 700hz\n",
    "- Sensor: ACC (accelerometer), ECG, EDA, EMG, RESP, TEMP\n",
    "- Format: file .txt dengan 10 kolom (1 = nomor baris, 2 = abaikan, 3-10 = data sensor)\n",
    "\n",
    "**Empatica E4 (Pergelangan Tangan)**\n",
    "- Sensor: ACC (accelerometer), BVP (blood volume pulse), EDA (electrodermal activity), TEMP (temperatur)\n",
    "- Sampling rate bervariasi:\n",
    "    - ACC.csv: 32 Hz (akselerometer 3 sumbu, satuan 1/64g)\n",
    "    - BVP.csv: 64 Hz (photoplethysmograph/PPG)\n",
    "    - EDA.csv: 4 Hz (μS)\n",
    "    - TEMP.csv: 4 Hz (°C)\n",
    "\n",
    "🏷️ **Label dan Ground Truth**\n",
    "- Tersedia label eksperimen:\n",
    "    - 0 = tidak terdefinisi/transien\n",
    "    - 1 = baseline\n",
    "    - 2 = stres\n",
    "    - 3 = senang (amusement)\n",
    "    - 4 = meditasi\n",
    "- Kuesioner self-report: PANAS, STAI, SAM, SSSQ\n",
    "\n",
    "---\n",
    "\n",
    "**Pada projek ini hanya akan digunakan data dari perangkat yang digunakan pada pergelangan tangan (Empatica E4), dan data dari sensor EDA akan ditinggalkan, hal ini dilakukan untuk sebisa mungkin mendekati kemampuan yang dimiliki oleh smartwatch konvensional**"
   ]
  },
  {
   "cell_type": "markdown",
   "id": "ef8fa0f7",
   "metadata": {
    "papermill": {
     "duration": 0.00734,
     "end_time": "2025-05-26T09:11:44.250254",
     "exception": false,
     "start_time": "2025-05-26T09:11:44.242914",
     "status": "completed"
    },
    "tags": []
   },
   "source": [
    "## Import library"
   ]
  },
  {
   "cell_type": "code",
   "execution_count": 1,
   "id": "589a2c74",
   "metadata": {
    "_cell_guid": "b1076dfc-b9ad-4769-8c92-a6c4dae69d19",
    "_uuid": "8f2839f25d086af736a60e9eeb907d3b93b6e0e5",
    "execution": {
     "iopub.execute_input": "2025-05-26T09:11:44.266399Z",
     "iopub.status.busy": "2025-05-26T09:11:44.265933Z",
     "iopub.status.idle": "2025-05-26T09:11:48.906716Z",
     "shell.execute_reply": "2025-05-26T09:11:48.905535Z"
    },
    "papermill": {
     "duration": 4.651392,
     "end_time": "2025-05-26T09:11:48.908572",
     "exception": false,
     "start_time": "2025-05-26T09:11:44.257180",
     "status": "completed"
    },
    "tags": []
   },
   "outputs": [],
   "source": [
    "import os\n",
    "import pickle\n",
    "import numpy as np\n",
    "import pandas as pd\n",
    "import matplotlib.pyplot as plt\n",
    "import seaborn as sns\n",
    "import warnings\n",
    "warnings.filterwarnings(\"ignore\")"
   ]
  },
  {
   "cell_type": "markdown",
   "id": "9eb05ea3",
   "metadata": {
    "papermill": {
     "duration": 0.006661,
     "end_time": "2025-05-26T09:11:48.922763",
     "exception": false,
     "start_time": "2025-05-26T09:11:48.916102",
     "status": "completed"
    },
    "tags": []
   },
   "source": [
    "## Data Preparation"
   ]
  },
  {
   "cell_type": "code",
   "execution_count": 2,
   "id": "864fae90",
   "metadata": {
    "execution": {
     "iopub.execute_input": "2025-05-26T09:11:48.938271Z",
     "iopub.status.busy": "2025-05-26T09:11:48.937767Z",
     "iopub.status.idle": "2025-05-26T09:11:48.942269Z",
     "shell.execute_reply": "2025-05-26T09:11:48.941246Z"
    },
    "papermill": {
     "duration": 0.014333,
     "end_time": "2025-05-26T09:11:48.943975",
     "exception": false,
     "start_time": "2025-05-26T09:11:48.929642",
     "status": "completed"
    },
    "tags": []
   },
   "outputs": [],
   "source": [
    "dataset_dir = \"/kaggle/input/wesad-wearable-stress-affect-detection-dataset/WESAD/\""
   ]
  },
  {
   "cell_type": "markdown",
   "id": "0e2b436a",
   "metadata": {
    "papermill": {
     "duration": 0.006591,
     "end_time": "2025-05-26T09:11:48.957641",
     "exception": false,
     "start_time": "2025-05-26T09:11:48.951050",
     "status": "completed"
    },
    "tags": []
   },
   "source": [
    "## Data Loading"
   ]
  },
  {
   "cell_type": "markdown",
   "id": "8c449387",
   "metadata": {
    "papermill": {
     "duration": 0.008025,
     "end_time": "2025-05-26T09:11:48.972403",
     "exception": false,
     "start_time": "2025-05-26T09:11:48.964378",
     "status": "completed"
    },
    "tags": []
   },
   "source": [
    "Pertama-tama akan dimuat data dari satu subjek terlebih dahulu (subjek 2) untuk nantinya dilihat perbedaan antara menggunakan data dari satu subjek dibandingkan dengan menggabungkan data dari semua subjek"
   ]
  },
  {
   "cell_type": "code",
   "execution_count": 3,
   "id": "ea10ebb3",
   "metadata": {
    "execution": {
     "iopub.execute_input": "2025-05-26T09:11:48.987814Z",
     "iopub.status.busy": "2025-05-26T09:11:48.987471Z",
     "iopub.status.idle": "2025-05-26T09:12:00.719367Z",
     "shell.execute_reply": "2025-05-26T09:12:00.718412Z"
    },
    "papermill": {
     "duration": 11.741545,
     "end_time": "2025-05-26T09:12:00.720963",
     "exception": false,
     "start_time": "2025-05-26T09:11:48.979418",
     "status": "completed"
    },
    "tags": []
   },
   "outputs": [
    {
     "data": {
      "text/plain": [
       "dict"
      ]
     },
     "execution_count": 3,
     "metadata": {},
     "output_type": "execute_result"
    }
   ],
   "source": [
    "# memuat data subjek 2\n",
    "with open(dataset_dir+'S2/S2.pkl', 'rb') as f:\n",
    "    s2_data = pickle.load(f, encoding='latin1')\n",
    "\n",
    "type(s2_data)"
   ]
  },
  {
   "cell_type": "code",
   "execution_count": 4,
   "id": "4a9239b7",
   "metadata": {
    "execution": {
     "iopub.execute_input": "2025-05-26T09:12:00.736171Z",
     "iopub.status.busy": "2025-05-26T09:12:00.735838Z",
     "iopub.status.idle": "2025-05-26T09:12:00.743848Z",
     "shell.execute_reply": "2025-05-26T09:12:00.742898Z"
    },
    "papermill": {
     "duration": 0.017675,
     "end_time": "2025-05-26T09:12:00.745843",
     "exception": false,
     "start_time": "2025-05-26T09:12:00.728168",
     "status": "completed"
    },
    "tags": []
   },
   "outputs": [
    {
     "name": "stdout",
     "output_type": "stream",
     "text": [
      "dict_keys(['signal', 'label', 'subject'])\n",
      "{'chest': {'ACC': array([[ 0.95539999, -0.222     , -0.55799997],\n",
      "       [ 0.92579997, -0.2216    , -0.55379999],\n",
      "       [ 0.90820003, -0.21960002, -0.53920001],\n",
      "       ...,\n",
      "       [ 0.87179995, -0.12379998, -0.30419999],\n",
      "       [ 0.87300003, -0.12339997, -0.30260003],\n",
      "       [ 0.87020004, -0.12199998, -0.30220002]]), 'ECG': array([[ 0.02142334],\n",
      "       [ 0.02032471],\n",
      "       [ 0.01652527],\n",
      "       ...,\n",
      "       [-0.00544739],\n",
      "       [ 0.00013733],\n",
      "       [ 0.0040741 ]]), 'EMG': array([[-0.00444031],\n",
      "       [ 0.00434875],\n",
      "       [ 0.00517273],\n",
      "       ...,\n",
      "       [-0.01716614],\n",
      "       [-0.02897644],\n",
      "       [-0.02357483]]), 'EDA': array([[5.25054932],\n",
      "       [5.26733398],\n",
      "       [5.24330139],\n",
      "       ...,\n",
      "       [0.36048889],\n",
      "       [0.36582947],\n",
      "       [0.365448  ]]), 'Temp': array([[30.120758],\n",
      "       [30.129517],\n",
      "       [30.138214],\n",
      "       ...,\n",
      "       [31.459229],\n",
      "       [31.484283],\n",
      "       [31.456268]], dtype=float32), 'Resp': array([[-1.14898682],\n",
      "       [-1.12457275],\n",
      "       [-1.15203857],\n",
      "       ...,\n",
      "       [-1.10321045],\n",
      "       [-1.08642578],\n",
      "       [-1.09710693]])}, 'wrist': {'ACC': array([[ 62., -21., 107.],\n",
      "       [ 66.,  13.,  53.],\n",
      "       [ 41.,   9.,  15.],\n",
      "       ...,\n",
      "       [ 41.,  25.,  11.],\n",
      "       [ 39.,  27.,  22.],\n",
      "       [ 56.,  26.,  10.]]), 'BVP': array([[-59.37],\n",
      "       [-53.42],\n",
      "       [-44.4 ],\n",
      "       ...,\n",
      "       [ 18.26],\n",
      "       [ 18.68],\n",
      "       [ 19.71]]), 'EDA': array([[1.138257],\n",
      "       [1.125444],\n",
      "       [1.011405],\n",
      "       ...,\n",
      "       [0.059208],\n",
      "       [0.073303],\n",
      "       [0.045113]]), 'TEMP': array([[35.41],\n",
      "       [35.41],\n",
      "       [35.41],\n",
      "       ...,\n",
      "       [34.23],\n",
      "       [34.23],\n",
      "       [34.23]])}}\n",
      "[0 0 0 ... 0 0 0]\n",
      "S2\n"
     ]
    }
   ],
   "source": [
    "# melihat daftar keys yang ada pada data dan melihat isinya\n",
    "print(s2_data.keys())\n",
    "\n",
    "for key in s2_data.keys():\n",
    "    print(s2_data[key])"
   ]
  },
  {
   "cell_type": "code",
   "execution_count": 5,
   "id": "5e787e5c",
   "metadata": {
    "execution": {
     "iopub.execute_input": "2025-05-26T09:12:00.761379Z",
     "iopub.status.busy": "2025-05-26T09:12:00.761049Z",
     "iopub.status.idle": "2025-05-26T09:12:00.769359Z",
     "shell.execute_reply": "2025-05-26T09:12:00.767700Z"
    },
    "papermill": {
     "duration": 0.018484,
     "end_time": "2025-05-26T09:12:00.771536",
     "exception": false,
     "start_time": "2025-05-26T09:12:00.753052",
     "status": "completed"
    },
    "tags": []
   },
   "outputs": [
    {
     "name": "stdout",
     "output_type": "stream",
     "text": [
      "dict_keys(['chest', 'wrist'])\n",
      "{'ACC': array([[ 0.95539999, -0.222     , -0.55799997],\n",
      "       [ 0.92579997, -0.2216    , -0.55379999],\n",
      "       [ 0.90820003, -0.21960002, -0.53920001],\n",
      "       ...,\n",
      "       [ 0.87179995, -0.12379998, -0.30419999],\n",
      "       [ 0.87300003, -0.12339997, -0.30260003],\n",
      "       [ 0.87020004, -0.12199998, -0.30220002]]), 'ECG': array([[ 0.02142334],\n",
      "       [ 0.02032471],\n",
      "       [ 0.01652527],\n",
      "       ...,\n",
      "       [-0.00544739],\n",
      "       [ 0.00013733],\n",
      "       [ 0.0040741 ]]), 'EMG': array([[-0.00444031],\n",
      "       [ 0.00434875],\n",
      "       [ 0.00517273],\n",
      "       ...,\n",
      "       [-0.01716614],\n",
      "       [-0.02897644],\n",
      "       [-0.02357483]]), 'EDA': array([[5.25054932],\n",
      "       [5.26733398],\n",
      "       [5.24330139],\n",
      "       ...,\n",
      "       [0.36048889],\n",
      "       [0.36582947],\n",
      "       [0.365448  ]]), 'Temp': array([[30.120758],\n",
      "       [30.129517],\n",
      "       [30.138214],\n",
      "       ...,\n",
      "       [31.459229],\n",
      "       [31.484283],\n",
      "       [31.456268]], dtype=float32), 'Resp': array([[-1.14898682],\n",
      "       [-1.12457275],\n",
      "       [-1.15203857],\n",
      "       ...,\n",
      "       [-1.10321045],\n",
      "       [-1.08642578],\n",
      "       [-1.09710693]])}\n",
      "{'ACC': array([[ 62., -21., 107.],\n",
      "       [ 66.,  13.,  53.],\n",
      "       [ 41.,   9.,  15.],\n",
      "       ...,\n",
      "       [ 41.,  25.,  11.],\n",
      "       [ 39.,  27.,  22.],\n",
      "       [ 56.,  26.,  10.]]), 'BVP': array([[-59.37],\n",
      "       [-53.42],\n",
      "       [-44.4 ],\n",
      "       ...,\n",
      "       [ 18.26],\n",
      "       [ 18.68],\n",
      "       [ 19.71]]), 'EDA': array([[1.138257],\n",
      "       [1.125444],\n",
      "       [1.011405],\n",
      "       ...,\n",
      "       [0.059208],\n",
      "       [0.073303],\n",
      "       [0.045113]]), 'TEMP': array([[35.41],\n",
      "       [35.41],\n",
      "       [35.41],\n",
      "       ...,\n",
      "       [34.23],\n",
      "       [34.23],\n",
      "       [34.23]])}\n"
     ]
    }
   ],
   "source": [
    "# melihat keys pada 'signal' dan melihat isinya\n",
    "print(s2_data['signal'].keys())\n",
    "\n",
    "for key in s2_data['signal'].keys():\n",
    "    print(s2_data['signal'][key])"
   ]
  },
  {
   "cell_type": "code",
   "execution_count": 6,
   "id": "8f780783",
   "metadata": {
    "execution": {
     "iopub.execute_input": "2025-05-26T09:12:00.787901Z",
     "iopub.status.busy": "2025-05-26T09:12:00.787609Z",
     "iopub.status.idle": "2025-05-26T09:12:00.794090Z",
     "shell.execute_reply": "2025-05-26T09:12:00.793160Z"
    },
    "papermill": {
     "duration": 0.016264,
     "end_time": "2025-05-26T09:12:00.795467",
     "exception": false,
     "start_time": "2025-05-26T09:12:00.779203",
     "status": "completed"
    },
    "tags": []
   },
   "outputs": [
    {
     "data": {
      "text/plain": [
       "array([[ 62., -21., 107.],\n",
       "       [ 66.,  13.,  53.],\n",
       "       [ 41.,   9.,  15.],\n",
       "       ...,\n",
       "       [ 41.,  25.,  11.],\n",
       "       [ 39.,  27.,  22.],\n",
       "       [ 56.,  26.,  10.]])"
      ]
     },
     "execution_count": 6,
     "metadata": {},
     "output_type": "execute_result"
    }
   ],
   "source": [
    "s2_data['signal']['wrist']['ACC']"
   ]
  },
  {
   "cell_type": "code",
   "execution_count": 7,
   "id": "4c779b62",
   "metadata": {
    "execution": {
     "iopub.execute_input": "2025-05-26T09:12:00.812804Z",
     "iopub.status.busy": "2025-05-26T09:12:00.812487Z",
     "iopub.status.idle": "2025-05-26T09:12:00.848415Z",
     "shell.execute_reply": "2025-05-26T09:12:00.847420Z"
    },
    "papermill": {
     "duration": 0.047258,
     "end_time": "2025-05-26T09:12:00.850182",
     "exception": false,
     "start_time": "2025-05-26T09:12:00.802924",
     "status": "completed"
    },
    "tags": []
   },
   "outputs": [],
   "source": [
    "# mengubah data subjek 2 ke dataframe\n",
    "\n",
    "sampling_rate = {'ACC' : 32, 'BVP' : 64,'TEMP' : 4, 'LABEL' : 700, 'TARGET' : 4}\n",
    "\n",
    "# mengambil data sinyal berdasarkan sensor terlebih dahuluu\n",
    "s2_wrist = s2_data['signal']['wrist']\n",
    "s2_acc = s2_wrist['ACC']\n",
    "s2_bvp = s2_wrist['BVP']\n",
    "s2_temp = s2_wrist['TEMP']\n",
    "\n",
    "# melakukan down sampling agar jumlah data/baris pada setiap sensor sama\n",
    "duration_sec = len(s2_temp) / sampling_rate['TEMP'] # mengambil jumlah detik\n",
    "new_len = int(duration_sec * sampling_rate['TARGET'])\n",
    "time_index = pd.timedelta_range(start='0s', periods=new_len, freq=f'{int(1000/sampling_rate[\"TARGET\"])}ms')\n",
    "\n",
    "# fungsi untuk melakukan resampling\n",
    "def resample_signal(signal, original_fs, target_fs, agg='mean'):\n",
    "    factor = int(original_fs / target_fs)\n",
    "    trimmed_len = (len(signal) // factor) * factor\n",
    "    signal_trimmed = signal[:trimmed_len].reshape(-1, factor, signal.shape[1])\n",
    "    if agg == 'mean':\n",
    "        return signal_trimmed.mean(axis=1)\n",
    "    else:\n",
    "        raise ValueError(\"Unsupported aggregation method.\")\n",
    "\n",
    "# down sampling\n",
    "acc_down = resample_signal(s2_acc, sampling_rate['ACC'], sampling_rate['TARGET'])\n",
    "bvp_down = resample_signal(s2_bvp, sampling_rate['BVP'], sampling_rate['TARGET'])\n",
    "temp_down = s2_temp[:len(time_index)]\n",
    "\n",
    "# Create DataFrames\n",
    "df_acc = pd.DataFrame(acc_down, columns=['ACC_x', 'ACC_y', 'ACC_z'])\n",
    "df_bvp = pd.DataFrame(bvp_down, columns=['BVP'])\n",
    "df_temp = pd.DataFrame(temp_down, columns=['TEMP'])\n",
    "\n",
    "# combine\n",
    "df_combined = pd.concat([df_acc, df_bvp, df_temp], axis=1)\n",
    "df_combined['Time'] = time_index"
   ]
  },
  {
   "cell_type": "code",
   "execution_count": 8,
   "id": "d3868ea9",
   "metadata": {
    "execution": {
     "iopub.execute_input": "2025-05-26T09:12:00.865999Z",
     "iopub.status.busy": "2025-05-26T09:12:00.865710Z",
     "iopub.status.idle": "2025-05-26T09:12:00.933646Z",
     "shell.execute_reply": "2025-05-26T09:12:00.932549Z"
    },
    "papermill": {
     "duration": 0.077931,
     "end_time": "2025-05-26T09:12:00.935505",
     "exception": false,
     "start_time": "2025-05-26T09:12:00.857574",
     "status": "completed"
    },
    "tags": []
   },
   "outputs": [],
   "source": [
    "# mengambil data label\n",
    "s2_label = s2_data['label']\n",
    "\n",
    "def downsample_labels(labels, factor):\n",
    "    trimmed_len = (len(labels) // factor) * factor\n",
    "    labels = labels[:trimmed_len].reshape(-1, factor)\n",
    "    mode_labels = [np.bincount(row).argmax() for row in labels]\n",
    "    return np.array(mode_labels)\n",
    "\n",
    "label_final = downsample_labels(s2_label, int(sampling_rate['LABEL']/sampling_rate['TARGET']))"
   ]
  },
  {
   "cell_type": "code",
   "execution_count": 9,
   "id": "d22356e2",
   "metadata": {
    "execution": {
     "iopub.execute_input": "2025-05-26T09:12:00.951968Z",
     "iopub.status.busy": "2025-05-26T09:12:00.951668Z",
     "iopub.status.idle": "2025-05-26T09:12:00.958199Z",
     "shell.execute_reply": "2025-05-26T09:12:00.957167Z"
    },
    "papermill": {
     "duration": 0.016651,
     "end_time": "2025-05-26T09:12:00.959819",
     "exception": false,
     "start_time": "2025-05-26T09:12:00.943168",
     "status": "completed"
    },
    "tags": []
   },
   "outputs": [],
   "source": [
    "df_final = df_combined.iloc[:len(label_final)].copy()\n",
    "df_final['label'] = label_final"
   ]
  },
  {
   "cell_type": "markdown",
   "id": "d289056a",
   "metadata": {
    "papermill": {
     "duration": 0.007184,
     "end_time": "2025-05-26T09:12:00.974627",
     "exception": false,
     "start_time": "2025-05-26T09:12:00.967443",
     "status": "completed"
    },
    "tags": []
   },
   "source": [
    "## Data Assessing"
   ]
  },
  {
   "cell_type": "code",
   "execution_count": 10,
   "id": "e28d26ce",
   "metadata": {
    "execution": {
     "iopub.execute_input": "2025-05-26T09:12:00.991029Z",
     "iopub.status.busy": "2025-05-26T09:12:00.990742Z",
     "iopub.status.idle": "2025-05-26T09:12:01.018158Z",
     "shell.execute_reply": "2025-05-26T09:12:01.016912Z"
    },
    "papermill": {
     "duration": 0.037239,
     "end_time": "2025-05-26T09:12:01.019728",
     "exception": false,
     "start_time": "2025-05-26T09:12:00.982489",
     "status": "completed"
    },
    "tags": []
   },
   "outputs": [
    {
     "name": "stdout",
     "output_type": "stream",
     "text": [
      "<class 'pandas.core.frame.DataFrame'>\n",
      "RangeIndex: 24316 entries, 0 to 24315\n",
      "Data columns (total 7 columns):\n",
      " #   Column  Non-Null Count  Dtype          \n",
      "---  ------  --------------  -----          \n",
      " 0   ACC_x   24316 non-null  float64        \n",
      " 1   ACC_y   24316 non-null  float64        \n",
      " 2   ACC_z   24316 non-null  float64        \n",
      " 3   BVP     24316 non-null  float64        \n",
      " 4   TEMP    24316 non-null  float64        \n",
      " 5   Time    24316 non-null  timedelta64[ns]\n",
      " 6   label   24316 non-null  int64          \n",
      "dtypes: float64(5), int64(1), timedelta64[ns](1)\n",
      "memory usage: 1.3 MB\n"
     ]
    }
   ],
   "source": [
    "df_final.info()"
   ]
  },
  {
   "cell_type": "markdown",
   "id": "7db76ae2",
   "metadata": {
    "papermill": {
     "duration": 0.007227,
     "end_time": "2025-05-26T09:12:01.034794",
     "exception": false,
     "start_time": "2025-05-26T09:12:01.027567",
     "status": "completed"
    },
    "tags": []
   },
   "source": [
    "- Terdapat 7 kolom dan 24316 baris data pada dataset\n",
    "- Tidak ada missing value pada dataset\n",
    "- 5 Kolom memiliki tipe data float, 1 timedelta, dan 1 int"
   ]
  },
  {
   "cell_type": "code",
   "execution_count": 11,
   "id": "37d62528",
   "metadata": {
    "execution": {
     "iopub.execute_input": "2025-05-26T09:12:01.051494Z",
     "iopub.status.busy": "2025-05-26T09:12:01.051175Z",
     "iopub.status.idle": "2025-05-26T09:12:01.074890Z",
     "shell.execute_reply": "2025-05-26T09:12:01.074001Z"
    },
    "papermill": {
     "duration": 0.034019,
     "end_time": "2025-05-26T09:12:01.076496",
     "exception": false,
     "start_time": "2025-05-26T09:12:01.042477",
     "status": "completed"
    },
    "tags": []
   },
   "outputs": [
    {
     "data": {
      "text/html": [
       "<div>\n",
       "<style scoped>\n",
       "    .dataframe tbody tr th:only-of-type {\n",
       "        vertical-align: middle;\n",
       "    }\n",
       "\n",
       "    .dataframe tbody tr th {\n",
       "        vertical-align: top;\n",
       "    }\n",
       "\n",
       "    .dataframe thead th {\n",
       "        text-align: right;\n",
       "    }\n",
       "</style>\n",
       "<table border=\"1\" class=\"dataframe\">\n",
       "  <thead>\n",
       "    <tr style=\"text-align: right;\">\n",
       "      <th></th>\n",
       "      <th>ACC_x</th>\n",
       "      <th>ACC_y</th>\n",
       "      <th>ACC_z</th>\n",
       "      <th>BVP</th>\n",
       "      <th>TEMP</th>\n",
       "      <th>Time</th>\n",
       "      <th>label</th>\n",
       "    </tr>\n",
       "  </thead>\n",
       "  <tbody>\n",
       "    <tr>\n",
       "      <th>0</th>\n",
       "      <td>53.000</td>\n",
       "      <td>9.625</td>\n",
       "      <td>43.625</td>\n",
       "      <td>6.269375</td>\n",
       "      <td>35.41</td>\n",
       "      <td>0 days 00:00:00</td>\n",
       "      <td>0</td>\n",
       "    </tr>\n",
       "    <tr>\n",
       "      <th>1</th>\n",
       "      <td>62.500</td>\n",
       "      <td>21.500</td>\n",
       "      <td>0.125</td>\n",
       "      <td>45.905000</td>\n",
       "      <td>35.41</td>\n",
       "      <td>0 days 00:00:00.250000</td>\n",
       "      <td>0</td>\n",
       "    </tr>\n",
       "    <tr>\n",
       "      <th>2</th>\n",
       "      <td>44.500</td>\n",
       "      <td>6.000</td>\n",
       "      <td>38.000</td>\n",
       "      <td>54.358750</td>\n",
       "      <td>35.41</td>\n",
       "      <td>0 days 00:00:00.500000</td>\n",
       "      <td>0</td>\n",
       "    </tr>\n",
       "    <tr>\n",
       "      <th>3</th>\n",
       "      <td>48.750</td>\n",
       "      <td>17.125</td>\n",
       "      <td>37.750</td>\n",
       "      <td>21.695625</td>\n",
       "      <td>35.41</td>\n",
       "      <td>0 days 00:00:00.750000</td>\n",
       "      <td>0</td>\n",
       "    </tr>\n",
       "    <tr>\n",
       "      <th>4</th>\n",
       "      <td>55.875</td>\n",
       "      <td>23.875</td>\n",
       "      <td>-1.500</td>\n",
       "      <td>-209.836875</td>\n",
       "      <td>35.41</td>\n",
       "      <td>0 days 00:00:01</td>\n",
       "      <td>0</td>\n",
       "    </tr>\n",
       "  </tbody>\n",
       "</table>\n",
       "</div>"
      ],
      "text/plain": [
       "    ACC_x   ACC_y   ACC_z         BVP   TEMP                   Time  label\n",
       "0  53.000   9.625  43.625    6.269375  35.41        0 days 00:00:00      0\n",
       "1  62.500  21.500   0.125   45.905000  35.41 0 days 00:00:00.250000      0\n",
       "2  44.500   6.000  38.000   54.358750  35.41 0 days 00:00:00.500000      0\n",
       "3  48.750  17.125  37.750   21.695625  35.41 0 days 00:00:00.750000      0\n",
       "4  55.875  23.875  -1.500 -209.836875  35.41        0 days 00:00:01      0"
      ]
     },
     "execution_count": 11,
     "metadata": {},
     "output_type": "execute_result"
    }
   ],
   "source": [
    "# melihat data\n",
    "df_final.head()"
   ]
  },
  {
   "cell_type": "code",
   "execution_count": 12,
   "id": "041c7c6d",
   "metadata": {
    "execution": {
     "iopub.execute_input": "2025-05-26T09:12:01.159136Z",
     "iopub.status.busy": "2025-05-26T09:12:01.158794Z",
     "iopub.status.idle": "2025-05-26T09:12:01.212807Z",
     "shell.execute_reply": "2025-05-26T09:12:01.211819Z"
    },
    "papermill": {
     "duration": 0.13012,
     "end_time": "2025-05-26T09:12:01.214347",
     "exception": false,
     "start_time": "2025-05-26T09:12:01.084227",
     "status": "completed"
    },
    "tags": []
   },
   "outputs": [
    {
     "data": {
      "text/html": [
       "<div>\n",
       "<style scoped>\n",
       "    .dataframe tbody tr th:only-of-type {\n",
       "        vertical-align: middle;\n",
       "    }\n",
       "\n",
       "    .dataframe tbody tr th {\n",
       "        vertical-align: top;\n",
       "    }\n",
       "\n",
       "    .dataframe thead th {\n",
       "        text-align: right;\n",
       "    }\n",
       "</style>\n",
       "<table border=\"1\" class=\"dataframe\">\n",
       "  <thead>\n",
       "    <tr style=\"text-align: right;\">\n",
       "      <th></th>\n",
       "      <th>ACC_x</th>\n",
       "      <th>ACC_y</th>\n",
       "      <th>ACC_z</th>\n",
       "      <th>BVP</th>\n",
       "      <th>TEMP</th>\n",
       "      <th>Time</th>\n",
       "      <th>label</th>\n",
       "    </tr>\n",
       "  </thead>\n",
       "  <tbody>\n",
       "    <tr>\n",
       "      <th>count</th>\n",
       "      <td>24316.000000</td>\n",
       "      <td>24316.000000</td>\n",
       "      <td>24316.000000</td>\n",
       "      <td>24316.000000</td>\n",
       "      <td>24316.000000</td>\n",
       "      <td>24316</td>\n",
       "      <td>24316.00000</td>\n",
       "    </tr>\n",
       "    <tr>\n",
       "      <th>mean</th>\n",
       "      <td>39.701452</td>\n",
       "      <td>-0.407381</td>\n",
       "      <td>18.990526</td>\n",
       "      <td>-0.000427</td>\n",
       "      <td>34.386945</td>\n",
       "      <td>0 days 00:50:39.375000</td>\n",
       "      <td>1.21237</td>\n",
       "    </tr>\n",
       "    <tr>\n",
       "      <th>std</th>\n",
       "      <td>18.946550</td>\n",
       "      <td>33.094480</td>\n",
       "      <td>24.717799</td>\n",
       "      <td>62.669446</td>\n",
       "      <td>1.045340</td>\n",
       "      <td>0 days 00:29:14.892227222</td>\n",
       "      <td>1.60663</td>\n",
       "    </tr>\n",
       "    <tr>\n",
       "      <th>min</th>\n",
       "      <td>-51.375000</td>\n",
       "      <td>-95.125000</td>\n",
       "      <td>-71.750000</td>\n",
       "      <td>-631.375000</td>\n",
       "      <td>32.310000</td>\n",
       "      <td>0 days 00:00:00</td>\n",
       "      <td>0.00000</td>\n",
       "    </tr>\n",
       "    <tr>\n",
       "      <th>25%</th>\n",
       "      <td>21.000000</td>\n",
       "      <td>-12.000000</td>\n",
       "      <td>8.750000</td>\n",
       "      <td>-16.288750</td>\n",
       "      <td>33.680000</td>\n",
       "      <td>0 days 00:25:19.687500</td>\n",
       "      <td>0.00000</td>\n",
       "    </tr>\n",
       "    <tr>\n",
       "      <th>50%</th>\n",
       "      <td>43.750000</td>\n",
       "      <td>5.500000</td>\n",
       "      <td>17.000000</td>\n",
       "      <td>1.747812</td>\n",
       "      <td>34.250000</td>\n",
       "      <td>0 days 00:50:39.375000</td>\n",
       "      <td>0.00000</td>\n",
       "    </tr>\n",
       "    <tr>\n",
       "      <th>75%</th>\n",
       "      <td>56.875000</td>\n",
       "      <td>22.750000</td>\n",
       "      <td>36.375000</td>\n",
       "      <td>16.184062</td>\n",
       "      <td>35.410000</td>\n",
       "      <td>0 days 01:15:59.062500</td>\n",
       "      <td>2.00000</td>\n",
       "    </tr>\n",
       "    <tr>\n",
       "      <th>max</th>\n",
       "      <td>94.000000</td>\n",
       "      <td>61.750000</td>\n",
       "      <td>86.625000</td>\n",
       "      <td>533.926250</td>\n",
       "      <td>35.970000</td>\n",
       "      <td>0 days 01:41:18.750000</td>\n",
       "      <td>7.00000</td>\n",
       "    </tr>\n",
       "  </tbody>\n",
       "</table>\n",
       "</div>"
      ],
      "text/plain": [
       "              ACC_x         ACC_y         ACC_z           BVP          TEMP  \\\n",
       "count  24316.000000  24316.000000  24316.000000  24316.000000  24316.000000   \n",
       "mean      39.701452     -0.407381     18.990526     -0.000427     34.386945   \n",
       "std       18.946550     33.094480     24.717799     62.669446      1.045340   \n",
       "min      -51.375000    -95.125000    -71.750000   -631.375000     32.310000   \n",
       "25%       21.000000    -12.000000      8.750000    -16.288750     33.680000   \n",
       "50%       43.750000      5.500000     17.000000      1.747812     34.250000   \n",
       "75%       56.875000     22.750000     36.375000     16.184062     35.410000   \n",
       "max       94.000000     61.750000     86.625000    533.926250     35.970000   \n",
       "\n",
       "                            Time        label  \n",
       "count                      24316  24316.00000  \n",
       "mean      0 days 00:50:39.375000      1.21237  \n",
       "std    0 days 00:29:14.892227222      1.60663  \n",
       "min              0 days 00:00:00      0.00000  \n",
       "25%       0 days 00:25:19.687500      0.00000  \n",
       "50%       0 days 00:50:39.375000      0.00000  \n",
       "75%       0 days 01:15:59.062500      2.00000  \n",
       "max       0 days 01:41:18.750000      7.00000  "
      ]
     },
     "execution_count": 12,
     "metadata": {},
     "output_type": "execute_result"
    }
   ],
   "source": [
    "# melihat statistik data\n",
    "df_final.describe()"
   ]
  },
  {
   "cell_type": "markdown",
   "id": "1f99f3c0",
   "metadata": {
    "papermill": {
     "duration": 0.008104,
     "end_time": "2025-05-26T09:12:01.230936",
     "exception": false,
     "start_time": "2025-05-26T09:12:01.222832",
     "status": "completed"
    },
    "tags": []
   },
   "source": [
    "Untuk mengetahui apakah statistik di atas valid atau tidak (dalam kata lain apakah data bersih atau kotor), kita harus mengetahui rentang nilai valid dari output sensor, data tersebut bisa didapatkan dari petunjuk penggunaan Empatica E4 [di sini](https://box.empatica.com/documentation/20141119_E4_TechSpecs.pdf). Dari petunjuk penggunaan tersebut, berikut adalah detailnya:\n",
    "- Accelerometer (ACC):\n",
    "    - Rentang [-2g, 2g], karena data direkam dalam satuan 1/64g, maka rentang nilai mentahnya adalah [-128, 128]\n",
    "- Blood Volume Pulse (BVP)--data didapatkan dari sensor PPG:\n",
    "    - Sampling rate: 64 Hz\n",
    "    - Resolusi output: 0,9 nW / digit\n",
    "    - Unit: Tidak secara eksplisit didefinisikan dalam satuan fisik standar\n",
    "- Temperature (TEMP)\n",
    "    - Rentang [-40, 115] (dalam celcius) untuk suhu kulit, dengan akurasi +-0,2 pada suhu kulit 36-39\n",
    " \n",
    "Kesimpulan\n",
    "- ACC: Valid jika berada dalam [-128, 128]\n",
    "- BVP: Tidak memiliki rentang absolut\n",
    "- TEMP: Valid jika berada dalam [-40, 115]\n",
    "\n",
    "---\n",
    "\n",
    "Data statistik deskriptif pada dataset:\n",
    "- ACC_x\n",
    "    - min: -51.375\n",
    "    - max: 94.000\n",
    "- ACC_y\n",
    "    - min: -95.125\n",
    "    - max: 61.750\n",
    "- ACC_z\n",
    "    - min: -71.750000\n",
    "    - max: 86.625\n",
    "- BVP\n",
    "    - min: -631.375\n",
    "    - max: 533.926\n",
    "- TEMP\n",
    "    - min: 32.310\n",
    "    - max: 35.970\n",
    "- Time\n",
    "    - Secara keseluruhan rekaman data berdurasi 1 jam 41 menit 18 detik\n",
    "\n",
    "**Dari data di atas maka kita dapat menarik kesimpulan bahwa data yang kita miliki adalah valid**"
   ]
  },
  {
   "cell_type": "code",
   "execution_count": 13,
   "id": "b0d1fed6",
   "metadata": {
    "execution": {
     "iopub.execute_input": "2025-05-26T09:12:01.249087Z",
     "iopub.status.busy": "2025-05-26T09:12:01.248720Z",
     "iopub.status.idle": "2025-05-26T09:12:01.258819Z",
     "shell.execute_reply": "2025-05-26T09:12:01.257900Z"
    },
    "papermill": {
     "duration": 0.021096,
     "end_time": "2025-05-26T09:12:01.260380",
     "exception": false,
     "start_time": "2025-05-26T09:12:01.239284",
     "status": "completed"
    },
    "tags": []
   },
   "outputs": [],
   "source": [
    "def create_boxplot(df, exclude_cols=None):\n",
    "    numeric_cols = df.select_dtypes(include=['number']).columns.tolist()\n",
    "\n",
    "    # Remove excluded columns\n",
    "    if exclude_cols is not None:\n",
    "        numeric_cols = [col for col in numeric_cols if col not in exclude_cols]\n",
    "\n",
    "    if not numeric_cols:\n",
    "        print(\"No numeric columns to plot.\")\n",
    "        return\n",
    "\n",
    "    fig, ax = plt.subplots(len(numeric_cols), 1, figsize=(12, 6 * len(numeric_cols)))\n",
    "\n",
    "    if len(numeric_cols) == 1:\n",
    "        ax = [ax]\n",
    "\n",
    "    for i, col in enumerate(numeric_cols):\n",
    "        sns.boxplot(data=df, x=col, ax=ax[i], orient='h')\n",
    "        ax[i].set_title(f\"{col} boxplot\")\n",
    "        \n",
    "    plt.show()\n",
    "\n",
    "def create_lineplot(df, exclude_cols=None, sample_size=None):\n",
    "    numeric_cols = df.select_dtypes(include=['number']).columns.tolist()\n",
    "\n",
    "    # Remove excluded columns\n",
    "    if exclude_cols is not None:\n",
    "        numeric_cols = [col for col in numeric_cols if col not in exclude_cols]\n",
    "\n",
    "    if not numeric_cols:\n",
    "        print(\"No numeric columns to plot.\")\n",
    "        return\n",
    "\n",
    "    # Optional sampling for performance\n",
    "    if sample_size is not None and len(df) > sample_size:\n",
    "        df = df.iloc[:sample_size]\n",
    "\n",
    "    fig, ax = plt.subplots(len(numeric_cols), 1, figsize=(12, 4 * len(numeric_cols)))\n",
    "\n",
    "    if len(numeric_cols) == 1:\n",
    "        ax = [ax]\n",
    "\n",
    "    for i, col in enumerate(numeric_cols):\n",
    "        sns.lineplot(data=df, x=df.index, y=col, ax=ax[i])\n",
    "        ax[i].set_title(f\"{col} line plot\")\n",
    "        ax[i].set_xlabel(\"Index\")\n",
    "        ax[i].set_ylabel(col)\n",
    "\n",
    "    plt.tight_layout()\n",
    "    plt.show()"
   ]
  },
  {
   "cell_type": "code",
   "execution_count": 14,
   "id": "b16886f1",
   "metadata": {
    "execution": {
     "iopub.execute_input": "2025-05-26T09:12:01.279791Z",
     "iopub.status.busy": "2025-05-26T09:12:01.278934Z",
     "iopub.status.idle": "2025-05-26T09:12:02.154161Z",
     "shell.execute_reply": "2025-05-26T09:12:02.153178Z"
    },
    "papermill": {
     "duration": 0.88793,
     "end_time": "2025-05-26T09:12:02.156476",
     "exception": false,
     "start_time": "2025-05-26T09:12:01.268546",
     "status": "completed"
    },
    "tags": []
   },
   "outputs": [
    {
     "data": {
      "image/png": "[encoded data removed]",
      "text/plain": [
       "<Figure size 1200x3600 with 6 Axes>"
      ]
     },
     "metadata": {},
     "output_type": "display_data"
    }
   ],
   "source": [
    "create_boxplot(df_final, ['Time'])"
   ]
  },
  {
   "cell_type": "code",
   "execution_count": 15,
   "id": "c0d37aeb",
   "metadata": {
    "execution": {
     "iopub.execute_input": "2025-05-26T09:12:02.179211Z",
     "iopub.status.busy": "2025-05-26T09:12:02.178846Z",
     "iopub.status.idle": "2025-05-26T09:12:03.869166Z",
     "shell.execute_reply": "2025-05-26T09:12:03.868179Z"
    },
    "papermill": {
     "duration": 1.706364,
     "end_time": "2025-05-26T09:12:03.874178",
     "exception": false,
     "start_time": "2025-05-26T09:12:02.167814",
     "status": "completed"
    },
    "tags": []
   },
   "outputs": [
    {
     "data": {
      "image/png": "[encoded data removed]",
      "text/plain": [
       "<Figure size 1200x2000 with 5 Axes>"
      ]
     },
     "metadata": {},
     "output_type": "display_data"
    }
   ],
   "source": [
    "create_lineplot(df_final, ['Time', 'label'])"
   ]
  },
  {
   "cell_type": "markdown",
   "id": "3ac3a7d0",
   "metadata": {
    "papermill": {
     "duration": 0.016343,
     "end_time": "2025-05-26T09:12:03.906224",
     "exception": false,
     "start_time": "2025-05-26T09:12:03.889881",
     "status": "completed"
    },
    "tags": []
   },
   "source": [
    "Dari grafik di atas, kita dapat melihat bahwa terdapat masih banyak outlier khusunya pada data dari sensor BVP dan ACC, namun karena data didapatkan langsung dari sensor dan masih berada dalam rentang yang valid, maka ini bukanlah suatu kesalahan."
   ]
  },
  {
   "cell_type": "markdown",
   "id": "42ddf264",
   "metadata": {
    "papermill": {
     "duration": 0.015376,
     "end_time": "2025-05-26T09:12:03.937520",
     "exception": false,
     "start_time": "2025-05-26T09:12:03.922144",
     "status": "completed"
    },
    "tags": []
   },
   "source": [
    "## Data Cleaning"
   ]
  },
  {
   "cell_type": "markdown",
   "id": "3c391b44",
   "metadata": {
    "papermill": {
     "duration": 0.01648,
     "end_time": "2025-05-26T09:12:03.969890",
     "exception": false,
     "start_time": "2025-05-26T09:12:03.953410",
     "status": "completed"
    },
    "tags": []
   },
   "source": [
    "Seperti yang diketahui dari tahap data assessing, semua data telah berada pada rentang yang valid, tidak ada baris dengan missing value, ataupun perbedaan tipe data dari yang seharusnya, maka sebenernya data yang kita miliki sudah terbilang bersih, namun kita masih bisa melakukan satu hal yaitu mengubah nama kolom menjadi lowercase agar menjadi lebih standar dan mudah dioperasikan."
   ]
  },
  {
   "cell_type": "code",
   "execution_count": 16,
   "id": "1fdde915",
   "metadata": {
    "execution": {
     "iopub.execute_input": "2025-05-26T09:12:04.007582Z",
     "iopub.status.busy": "2025-05-26T09:12:04.007255Z",
     "iopub.status.idle": "2025-05-26T09:12:04.012493Z",
     "shell.execute_reply": "2025-05-26T09:12:04.011493Z"
    },
    "papermill": {
     "duration": 0.024989,
     "end_time": "2025-05-26T09:12:04.014209",
     "exception": false,
     "start_time": "2025-05-26T09:12:03.989220",
     "status": "completed"
    },
    "tags": []
   },
   "outputs": [],
   "source": [
    "# mengubah nama kolom ke lowercase\n",
    "df_final.columns = df_final.columns.str.lower()"
   ]
  },
  {
   "cell_type": "code",
   "execution_count": 17,
   "id": "ea557471",
   "metadata": {
    "execution": {
     "iopub.execute_input": "2025-05-26T09:12:04.049244Z",
     "iopub.status.busy": "2025-05-26T09:12:04.048888Z",
     "iopub.status.idle": "2025-05-26T09:12:04.061102Z",
     "shell.execute_reply": "2025-05-26T09:12:04.060014Z"
    },
    "papermill": {
     "duration": 0.030824,
     "end_time": "2025-05-26T09:12:04.062759",
     "exception": false,
     "start_time": "2025-05-26T09:12:04.031935",
     "status": "completed"
    },
    "tags": []
   },
   "outputs": [
    {
     "name": "stdout",
     "output_type": "stream",
     "text": [
      "<class 'pandas.core.frame.DataFrame'>\n",
      "RangeIndex: 24316 entries, 0 to 24315\n",
      "Data columns (total 7 columns):\n",
      " #   Column  Non-Null Count  Dtype          \n",
      "---  ------  --------------  -----          \n",
      " 0   acc_x   24316 non-null  float64        \n",
      " 1   acc_y   24316 non-null  float64        \n",
      " 2   acc_z   24316 non-null  float64        \n",
      " 3   bvp     24316 non-null  float64        \n",
      " 4   temp    24316 non-null  float64        \n",
      " 5   time    24316 non-null  timedelta64[ns]\n",
      " 6   label   24316 non-null  int64          \n",
      "dtypes: float64(5), int64(1), timedelta64[ns](1)\n",
      "memory usage: 1.3 MB\n"
     ]
    }
   ],
   "source": [
    "# memastikan nama kolom telah diubah ke lowercase\n",
    "df_final.info()"
   ]
  },
  {
   "cell_type": "markdown",
   "id": "2d5ab523",
   "metadata": {
    "papermill": {
     "duration": 0.01582,
     "end_time": "2025-05-26T09:12:04.094812",
     "exception": false,
     "start_time": "2025-05-26T09:12:04.078992",
     "status": "completed"
    },
    "tags": []
   },
   "source": [
    "Sebenernya kita masih bisa melakukan cleaning atau lebih tepatnya preprocessing, seperti scaling data menggunakan StandardScaler ataupun MinMaxScaler, namun hal ini lebih tepat dilakukan pada tahap pengembangan model machine learning."
   ]
  },
  {
   "cell_type": "markdown",
   "id": "036ebbf0",
   "metadata": {
    "papermill": {
     "duration": 0.016144,
     "end_time": "2025-05-26T09:12:04.126813",
     "exception": false,
     "start_time": "2025-05-26T09:12:04.110669",
     "status": "completed"
    },
    "tags": []
   },
   "source": [
    "## Exploratory Data Analysis"
   ]
  },
  {
   "cell_type": "markdown",
   "id": "00590a1c",
   "metadata": {
    "papermill": {
     "duration": 0.021918,
     "end_time": "2025-05-26T09:12:04.165223",
     "exception": false,
     "start_time": "2025-05-26T09:12:04.143305",
     "status": "completed"
    },
    "tags": []
   },
   "source": [
    "### Melihat distribusi label"
   ]
  },
  {
   "cell_type": "code",
   "execution_count": 18,
   "id": "9fa11718",
   "metadata": {
    "execution": {
     "iopub.execute_input": "2025-05-26T09:12:04.201870Z",
     "iopub.status.busy": "2025-05-26T09:12:04.201555Z",
     "iopub.status.idle": "2025-05-26T09:12:04.209358Z",
     "shell.execute_reply": "2025-05-26T09:12:04.208249Z"
    },
    "papermill": {
     "duration": 0.027723,
     "end_time": "2025-05-26T09:12:04.211152",
     "exception": false,
     "start_time": "2025-05-26T09:12:04.183429",
     "status": "completed"
    },
    "tags": []
   },
   "outputs": [
    {
     "data": {
      "text/plain": [
       "label\n",
       "0    12244\n",
       "1     4576\n",
       "4     3072\n",
       "2     2460\n",
       "3     1448\n",
       "6      260\n",
       "7      256\n",
       "Name: count, dtype: int64"
      ]
     },
     "execution_count": 18,
     "metadata": {},
     "output_type": "execute_result"
    }
   ],
   "source": [
    "# melihat distribusi label menggunakan angka\n",
    "df_final['label'].value_counts()"
   ]
  },
  {
   "cell_type": "code",
   "execution_count": 19,
   "id": "85830cfd",
   "metadata": {
    "execution": {
     "iopub.execute_input": "2025-05-26T09:12:04.244643Z",
     "iopub.status.busy": "2025-05-26T09:12:04.244371Z",
     "iopub.status.idle": "2025-05-26T09:12:04.431522Z",
     "shell.execute_reply": "2025-05-26T09:12:04.430545Z"
    },
    "papermill": {
     "duration": 0.205169,
     "end_time": "2025-05-26T09:12:04.432985",
     "exception": false,
     "start_time": "2025-05-26T09:12:04.227816",
     "status": "completed"
    },
    "tags": []
   },
   "outputs": [
    {
     "data": {
      "image/png": "[encoded data removed]",
      "text/plain": [
       "<Figure size 640x480 with 1 Axes>"
      ]
     },
     "metadata": {},
     "output_type": "display_data"
    }
   ],
   "source": [
    "# membuat count plot untuk melihat distribusi label\n",
    "sns.countplot(df_final,x=df_final['label'])\n",
    "plt.title(\"Distribusi label\")\n",
    "plt.show()"
   ]
  },
  {
   "cell_type": "markdown",
   "id": "d2261106",
   "metadata": {
    "papermill": {
     "duration": 0.01651,
     "end_time": "2025-05-26T09:12:04.466643",
     "exception": false,
     "start_time": "2025-05-26T09:12:04.450133",
     "status": "completed"
    },
    "tags": []
   },
   "source": [
    "**Insight**\n",
    "\n",
    "Dari grafik di atas kita dapat melihat bahwa status 0 (not defined/transient) adalah yang paling banyak, diikuti dengan status 1 (baseline), 4 (meditation), 2 (stress), dan 3 (amusement), status 6 & 7 dapat dihiraukan."
   ]
  },
  {
   "cell_type": "markdown",
   "id": "648a9606",
   "metadata": {
    "papermill": {
     "duration": 0.017194,
     "end_time": "2025-05-26T09:12:04.500459",
     "exception": false,
     "start_time": "2025-05-26T09:12:04.483265",
     "status": "completed"
    },
    "tags": []
   },
   "source": [
    "### Melihat statistik dari sensor untuk setiap label"
   ]
  },
  {
   "cell_type": "markdown",
   "id": "c4593e8e",
   "metadata": {
    "papermill": {
     "duration": 0.016795,
     "end_time": "2025-05-26T09:12:04.535475",
     "exception": false,
     "start_time": "2025-05-26T09:12:04.518680",
     "status": "completed"
    },
    "tags": []
   },
   "source": [
    "#### Status 0 (not defined/transient)"
   ]
  },
  {
   "cell_type": "code",
   "execution_count": 20,
   "id": "1324fede",
   "metadata": {
    "execution": {
     "iopub.execute_input": "2025-05-26T09:12:04.571546Z",
     "iopub.status.busy": "2025-05-26T09:12:04.571231Z",
     "iopub.status.idle": "2025-05-26T09:12:04.611553Z",
     "shell.execute_reply": "2025-05-26T09:12:04.609675Z"
    },
    "papermill": {
     "duration": 0.061018,
     "end_time": "2025-05-26T09:12:04.614330",
     "exception": false,
     "start_time": "2025-05-26T09:12:04.553312",
     "status": "completed"
    },
    "tags": []
   },
   "outputs": [
    {
     "data": {
      "text/html": [
       "<div>\n",
       "<style scoped>\n",
       "    .dataframe tbody tr th:only-of-type {\n",
       "        vertical-align: middle;\n",
       "    }\n",
       "\n",
       "    .dataframe tbody tr th {\n",
       "        vertical-align: top;\n",
       "    }\n",
       "\n",
       "    .dataframe thead th {\n",
       "        text-align: right;\n",
       "    }\n",
       "</style>\n",
       "<table border=\"1\" class=\"dataframe\">\n",
       "  <thead>\n",
       "    <tr style=\"text-align: right;\">\n",
       "      <th></th>\n",
       "      <th>acc_x</th>\n",
       "      <th>acc_y</th>\n",
       "      <th>acc_z</th>\n",
       "      <th>bvp</th>\n",
       "      <th>temp</th>\n",
       "      <th>time</th>\n",
       "      <th>label</th>\n",
       "    </tr>\n",
       "  </thead>\n",
       "  <tbody>\n",
       "    <tr>\n",
       "      <th>count</th>\n",
       "      <td>12244.000000</td>\n",
       "      <td>12244.000000</td>\n",
       "      <td>12244.000000</td>\n",
       "      <td>12244.000000</td>\n",
       "      <td>12244.000000</td>\n",
       "      <td>12244</td>\n",
       "      <td>12244.0</td>\n",
       "    </tr>\n",
       "    <tr>\n",
       "      <th>mean</th>\n",
       "      <td>34.421145</td>\n",
       "      <td>-1.378706</td>\n",
       "      <td>28.076956</td>\n",
       "      <td>-0.004280</td>\n",
       "      <td>34.199835</td>\n",
       "      <td>0 days 00:52:57.347557987</td>\n",
       "      <td>0.0</td>\n",
       "    </tr>\n",
       "    <tr>\n",
       "      <th>std</th>\n",
       "      <td>18.415925</td>\n",
       "      <td>33.582146</td>\n",
       "      <td>23.890441</td>\n",
       "      <td>74.536823</td>\n",
       "      <td>1.022204</td>\n",
       "      <td>0 days 00:27:10.519895634</td>\n",
       "      <td>0.0</td>\n",
       "    </tr>\n",
       "    <tr>\n",
       "      <th>min</th>\n",
       "      <td>-51.375000</td>\n",
       "      <td>-92.875000</td>\n",
       "      <td>-71.750000</td>\n",
       "      <td>-631.375000</td>\n",
       "      <td>32.310000</td>\n",
       "      <td>0 days 00:00:00</td>\n",
       "      <td>0.0</td>\n",
       "    </tr>\n",
       "    <tr>\n",
       "      <th>25%</th>\n",
       "      <td>18.625000</td>\n",
       "      <td>-17.781250</td>\n",
       "      <td>9.000000</td>\n",
       "      <td>-19.859219</td>\n",
       "      <td>33.230000</td>\n",
       "      <td>0 days 00:31:49.187500</td>\n",
       "      <td>0.0</td>\n",
       "    </tr>\n",
       "    <tr>\n",
       "      <th>50%</th>\n",
       "      <td>36.250000</td>\n",
       "      <td>3.750000</td>\n",
       "      <td>28.375000</td>\n",
       "      <td>1.795625</td>\n",
       "      <td>34.210000</td>\n",
       "      <td>0 days 00:55:54.375000</td>\n",
       "      <td>0.0</td>\n",
       "    </tr>\n",
       "    <tr>\n",
       "      <th>75%</th>\n",
       "      <td>48.281250</td>\n",
       "      <td>18.000000</td>\n",
       "      <td>49.250000</td>\n",
       "      <td>20.305781</td>\n",
       "      <td>35.250000</td>\n",
       "      <td>0 days 01:15:10.562500</td>\n",
       "      <td>0.0</td>\n",
       "    </tr>\n",
       "    <tr>\n",
       "      <th>max</th>\n",
       "      <td>94.000000</td>\n",
       "      <td>61.750000</td>\n",
       "      <td>86.625000</td>\n",
       "      <td>533.926250</td>\n",
       "      <td>35.870000</td>\n",
       "      <td>0 days 01:41:18.750000</td>\n",
       "      <td>0.0</td>\n",
       "    </tr>\n",
       "  </tbody>\n",
       "</table>\n",
       "</div>"
      ],
      "text/plain": [
       "              acc_x         acc_y         acc_z           bvp          temp  \\\n",
       "count  12244.000000  12244.000000  12244.000000  12244.000000  12244.000000   \n",
       "mean      34.421145     -1.378706     28.076956     -0.004280     34.199835   \n",
       "std       18.415925     33.582146     23.890441     74.536823      1.022204   \n",
       "min      -51.375000    -92.875000    -71.750000   -631.375000     32.310000   \n",
       "25%       18.625000    -17.781250      9.000000    -19.859219     33.230000   \n",
       "50%       36.250000      3.750000     28.375000      1.795625     34.210000   \n",
       "75%       48.281250     18.000000     49.250000     20.305781     35.250000   \n",
       "max       94.000000     61.750000     86.625000    533.926250     35.870000   \n",
       "\n",
       "                            time    label  \n",
       "count                      12244  12244.0  \n",
       "mean   0 days 00:52:57.347557987      0.0  \n",
       "std    0 days 00:27:10.519895634      0.0  \n",
       "min              0 days 00:00:00      0.0  \n",
       "25%       0 days 00:31:49.187500      0.0  \n",
       "50%       0 days 00:55:54.375000      0.0  \n",
       "75%       0 days 01:15:10.562500      0.0  \n",
       "max       0 days 01:41:18.750000      0.0  "
      ]
     },
     "execution_count": 20,
     "metadata": {},
     "output_type": "execute_result"
    }
   ],
   "source": [
    "df_final[df_final['label'] == 0].describe()"
   ]
  },
  {
   "cell_type": "markdown",
   "id": "f85eb982",
   "metadata": {
    "papermill": {
     "duration": 0.019887,
     "end_time": "2025-05-26T09:12:04.651761",
     "exception": false,
     "start_time": "2025-05-26T09:12:04.631874",
     "status": "completed"
    },
    "tags": []
   },
   "source": [
    "#### Status 1 (baseline)"
   ]
  },
  {
   "cell_type": "code",
   "execution_count": 21,
   "id": "54b0fa67",
   "metadata": {
    "execution": {
     "iopub.execute_input": "2025-05-26T09:12:04.688682Z",
     "iopub.status.busy": "2025-05-26T09:12:04.688365Z",
     "iopub.status.idle": "2025-05-26T09:12:04.717706Z",
     "shell.execute_reply": "2025-05-26T09:12:04.716199Z"
    },
    "papermill": {
     "duration": 0.050795,
     "end_time": "2025-05-26T09:12:04.719898",
     "exception": false,
     "start_time": "2025-05-26T09:12:04.669103",
     "status": "completed"
    },
    "tags": []
   },
   "outputs": [
    {
     "data": {
      "text/html": [
       "<div>\n",
       "<style scoped>\n",
       "    .dataframe tbody tr th:only-of-type {\n",
       "        vertical-align: middle;\n",
       "    }\n",
       "\n",
       "    .dataframe tbody tr th {\n",
       "        vertical-align: top;\n",
       "    }\n",
       "\n",
       "    .dataframe thead th {\n",
       "        text-align: right;\n",
       "    }\n",
       "</style>\n",
       "<table border=\"1\" class=\"dataframe\">\n",
       "  <thead>\n",
       "    <tr style=\"text-align: right;\">\n",
       "      <th></th>\n",
       "      <th>acc_x</th>\n",
       "      <th>acc_y</th>\n",
       "      <th>acc_z</th>\n",
       "      <th>bvp</th>\n",
       "      <th>temp</th>\n",
       "      <th>time</th>\n",
       "      <th>label</th>\n",
       "    </tr>\n",
       "  </thead>\n",
       "  <tbody>\n",
       "    <tr>\n",
       "      <th>count</th>\n",
       "      <td>4576.000000</td>\n",
       "      <td>4576.000000</td>\n",
       "      <td>4576.000000</td>\n",
       "      <td>4576.000000</td>\n",
       "      <td>4576.000000</td>\n",
       "      <td>4576</td>\n",
       "      <td>4576.0</td>\n",
       "    </tr>\n",
       "    <tr>\n",
       "      <th>mean</th>\n",
       "      <td>48.897181</td>\n",
       "      <td>18.493854</td>\n",
       "      <td>6.488363</td>\n",
       "      <td>0.007968</td>\n",
       "      <td>35.786259</td>\n",
       "      <td>0 days 00:14:38.375000</td>\n",
       "      <td>1.0</td>\n",
       "    </tr>\n",
       "    <tr>\n",
       "      <th>std</th>\n",
       "      <td>12.344719</td>\n",
       "      <td>10.863977</td>\n",
       "      <td>30.924489</td>\n",
       "      <td>54.240750</td>\n",
       "      <td>0.108391</td>\n",
       "      <td>0 days 00:05:30.280436397</td>\n",
       "      <td>0.0</td>\n",
       "    </tr>\n",
       "    <tr>\n",
       "      <th>min</th>\n",
       "      <td>-26.500000</td>\n",
       "      <td>-95.125000</td>\n",
       "      <td>-55.500000</td>\n",
       "      <td>-541.275000</td>\n",
       "      <td>35.500000</td>\n",
       "      <td>0 days 00:05:06.500000</td>\n",
       "      <td>1.0</td>\n",
       "    </tr>\n",
       "    <tr>\n",
       "      <th>25%</th>\n",
       "      <td>44.000000</td>\n",
       "      <td>13.000000</td>\n",
       "      <td>-28.968750</td>\n",
       "      <td>-14.826875</td>\n",
       "      <td>35.710000</td>\n",
       "      <td>0 days 00:09:52.437500</td>\n",
       "      <td>1.0</td>\n",
       "    </tr>\n",
       "    <tr>\n",
       "      <th>50%</th>\n",
       "      <td>53.500000</td>\n",
       "      <td>20.000000</td>\n",
       "      <td>19.750000</td>\n",
       "      <td>1.843125</td>\n",
       "      <td>35.810000</td>\n",
       "      <td>0 days 00:14:38.375000</td>\n",
       "      <td>1.0</td>\n",
       "    </tr>\n",
       "    <tr>\n",
       "      <th>75%</th>\n",
       "      <td>56.250000</td>\n",
       "      <td>25.500000</td>\n",
       "      <td>24.906250</td>\n",
       "      <td>14.272656</td>\n",
       "      <td>35.890000</td>\n",
       "      <td>0 days 00:19:24.312500</td>\n",
       "      <td>1.0</td>\n",
       "    </tr>\n",
       "    <tr>\n",
       "      <th>max</th>\n",
       "      <td>90.000000</td>\n",
       "      <td>52.750000</td>\n",
       "      <td>66.750000</td>\n",
       "      <td>427.279375</td>\n",
       "      <td>35.970000</td>\n",
       "      <td>0 days 00:24:10.250000</td>\n",
       "      <td>1.0</td>\n",
       "    </tr>\n",
       "  </tbody>\n",
       "</table>\n",
       "</div>"
      ],
      "text/plain": [
       "             acc_x        acc_y        acc_z          bvp         temp  \\\n",
       "count  4576.000000  4576.000000  4576.000000  4576.000000  4576.000000   \n",
       "mean     48.897181    18.493854     6.488363     0.007968    35.786259   \n",
       "std      12.344719    10.863977    30.924489    54.240750     0.108391   \n",
       "min     -26.500000   -95.125000   -55.500000  -541.275000    35.500000   \n",
       "25%      44.000000    13.000000   -28.968750   -14.826875    35.710000   \n",
       "50%      53.500000    20.000000    19.750000     1.843125    35.810000   \n",
       "75%      56.250000    25.500000    24.906250    14.272656    35.890000   \n",
       "max      90.000000    52.750000    66.750000   427.279375    35.970000   \n",
       "\n",
       "                            time   label  \n",
       "count                       4576  4576.0  \n",
       "mean      0 days 00:14:38.375000     1.0  \n",
       "std    0 days 00:05:30.280436397     0.0  \n",
       "min       0 days 00:05:06.500000     1.0  \n",
       "25%       0 days 00:09:52.437500     1.0  \n",
       "50%       0 days 00:14:38.375000     1.0  \n",
       "75%       0 days 00:19:24.312500     1.0  \n",
       "max       0 days 00:24:10.250000     1.0  "
      ]
     },
     "execution_count": 21,
     "metadata": {},
     "output_type": "execute_result"
    }
   ],
   "source": [
    "df_final[df_final['label'] == 1].describe()"
   ]
  },
  {
   "cell_type": "markdown",
   "id": "ccca6fc2",
   "metadata": {
    "papermill": {
     "duration": 0.015199,
     "end_time": "2025-05-26T09:12:04.751931",
     "exception": false,
     "start_time": "2025-05-26T09:12:04.736732",
     "status": "completed"
    },
    "tags": []
   },
   "source": [
    "#### Status 2 (stress)"
   ]
  },
  {
   "cell_type": "code",
   "execution_count": 22,
   "id": "35043754",
   "metadata": {
    "execution": {
     "iopub.execute_input": "2025-05-26T09:12:04.783927Z",
     "iopub.status.busy": "2025-05-26T09:12:04.783601Z",
     "iopub.status.idle": "2025-05-26T09:12:04.813109Z",
     "shell.execute_reply": "2025-05-26T09:12:04.812012Z"
    },
    "papermill": {
     "duration": 0.048,
     "end_time": "2025-05-26T09:12:04.815237",
     "exception": false,
     "start_time": "2025-05-26T09:12:04.767237",
     "status": "completed"
    },
    "tags": []
   },
   "outputs": [
    {
     "data": {
      "text/html": [
       "<div>\n",
       "<style scoped>\n",
       "    .dataframe tbody tr th:only-of-type {\n",
       "        vertical-align: middle;\n",
       "    }\n",
       "\n",
       "    .dataframe tbody tr th {\n",
       "        vertical-align: top;\n",
       "    }\n",
       "\n",
       "    .dataframe thead th {\n",
       "        text-align: right;\n",
       "    }\n",
       "</style>\n",
       "<table border=\"1\" class=\"dataframe\">\n",
       "  <thead>\n",
       "    <tr style=\"text-align: right;\">\n",
       "      <th></th>\n",
       "      <th>acc_x</th>\n",
       "      <th>acc_y</th>\n",
       "      <th>acc_z</th>\n",
       "      <th>bvp</th>\n",
       "      <th>temp</th>\n",
       "      <th>time</th>\n",
       "      <th>label</th>\n",
       "    </tr>\n",
       "  </thead>\n",
       "  <tbody>\n",
       "    <tr>\n",
       "      <th>count</th>\n",
       "      <td>2460.000000</td>\n",
       "      <td>2460.000000</td>\n",
       "      <td>2460.000000</td>\n",
       "      <td>2460.000000</td>\n",
       "      <td>2460.000000</td>\n",
       "      <td>2460</td>\n",
       "      <td>2460.0</td>\n",
       "    </tr>\n",
       "    <tr>\n",
       "      <th>mean</th>\n",
       "      <td>17.062856</td>\n",
       "      <td>-58.549898</td>\n",
       "      <td>13.665854</td>\n",
       "      <td>0.048299</td>\n",
       "      <td>33.442699</td>\n",
       "      <td>0 days 00:43:00.875000</td>\n",
       "      <td>2.0</td>\n",
       "    </tr>\n",
       "    <tr>\n",
       "      <th>std</th>\n",
       "      <td>4.802520</td>\n",
       "      <td>2.751361</td>\n",
       "      <td>3.289121</td>\n",
       "      <td>61.041144</td>\n",
       "      <td>0.462591</td>\n",
       "      <td>0 days 00:02:57.571288501</td>\n",
       "      <td>0.0</td>\n",
       "    </tr>\n",
       "    <tr>\n",
       "      <th>min</th>\n",
       "      <td>8.500000</td>\n",
       "      <td>-82.625000</td>\n",
       "      <td>-16.250000</td>\n",
       "      <td>-504.448125</td>\n",
       "      <td>32.570000</td>\n",
       "      <td>0 days 00:37:53.500000</td>\n",
       "      <td>2.0</td>\n",
       "    </tr>\n",
       "    <tr>\n",
       "      <th>25%</th>\n",
       "      <td>15.125000</td>\n",
       "      <td>-59.375000</td>\n",
       "      <td>13.000000</td>\n",
       "      <td>-16.445156</td>\n",
       "      <td>33.050000</td>\n",
       "      <td>0 days 00:40:27.187500</td>\n",
       "      <td>2.0</td>\n",
       "    </tr>\n",
       "    <tr>\n",
       "      <th>50%</th>\n",
       "      <td>15.875000</td>\n",
       "      <td>-59.000000</td>\n",
       "      <td>14.000000</td>\n",
       "      <td>0.835937</td>\n",
       "      <td>33.500000</td>\n",
       "      <td>0 days 00:43:00.875000</td>\n",
       "      <td>2.0</td>\n",
       "    </tr>\n",
       "    <tr>\n",
       "      <th>75%</th>\n",
       "      <td>17.000000</td>\n",
       "      <td>-58.750000</td>\n",
       "      <td>15.000000</td>\n",
       "      <td>17.315313</td>\n",
       "      <td>33.840000</td>\n",
       "      <td>0 days 00:45:34.562500</td>\n",
       "      <td>2.0</td>\n",
       "    </tr>\n",
       "    <tr>\n",
       "      <th>max</th>\n",
       "      <td>60.375000</td>\n",
       "      <td>-17.625000</td>\n",
       "      <td>29.125000</td>\n",
       "      <td>358.394375</td>\n",
       "      <td>34.110000</td>\n",
       "      <td>0 days 00:48:08.250000</td>\n",
       "      <td>2.0</td>\n",
       "    </tr>\n",
       "  </tbody>\n",
       "</table>\n",
       "</div>"
      ],
      "text/plain": [
       "             acc_x        acc_y        acc_z          bvp         temp  \\\n",
       "count  2460.000000  2460.000000  2460.000000  2460.000000  2460.000000   \n",
       "mean     17.062856   -58.549898    13.665854     0.048299    33.442699   \n",
       "std       4.802520     2.751361     3.289121    61.041144     0.462591   \n",
       "min       8.500000   -82.625000   -16.250000  -504.448125    32.570000   \n",
       "25%      15.125000   -59.375000    13.000000   -16.445156    33.050000   \n",
       "50%      15.875000   -59.000000    14.000000     0.835937    33.500000   \n",
       "75%      17.000000   -58.750000    15.000000    17.315313    33.840000   \n",
       "max      60.375000   -17.625000    29.125000   358.394375    34.110000   \n",
       "\n",
       "                            time   label  \n",
       "count                       2460  2460.0  \n",
       "mean      0 days 00:43:00.875000     2.0  \n",
       "std    0 days 00:02:57.571288501     0.0  \n",
       "min       0 days 00:37:53.500000     2.0  \n",
       "25%       0 days 00:40:27.187500     2.0  \n",
       "50%       0 days 00:43:00.875000     2.0  \n",
       "75%       0 days 00:45:34.562500     2.0  \n",
       "max       0 days 00:48:08.250000     2.0  "
      ]
     },
     "execution_count": 22,
     "metadata": {},
     "output_type": "execute_result"
    }
   ],
   "source": [
    "df_final[df_final['label'] == 2].describe()"
   ]
  },
  {
   "cell_type": "markdown",
   "id": "bdb50dd1",
   "metadata": {
    "papermill": {
     "duration": 0.016578,
     "end_time": "2025-05-26T09:12:04.848251",
     "exception": false,
     "start_time": "2025-05-26T09:12:04.831673",
     "status": "completed"
    },
    "tags": []
   },
   "source": [
    "#### Status 3 (amusement)"
   ]
  },
  {
   "cell_type": "code",
   "execution_count": 23,
   "id": "2b3e2093",
   "metadata": {
    "execution": {
     "iopub.execute_input": "2025-05-26T09:12:04.880929Z",
     "iopub.status.busy": "2025-05-26T09:12:04.880618Z",
     "iopub.status.idle": "2025-05-26T09:12:04.910975Z",
     "shell.execute_reply": "2025-05-26T09:12:04.909946Z"
    },
    "papermill": {
     "duration": 0.048833,
     "end_time": "2025-05-26T09:12:04.912837",
     "exception": false,
     "start_time": "2025-05-26T09:12:04.864004",
     "status": "completed"
    },
    "tags": []
   },
   "outputs": [
    {
     "data": {
      "text/html": [
       "<div>\n",
       "<style scoped>\n",
       "    .dataframe tbody tr th:only-of-type {\n",
       "        vertical-align: middle;\n",
       "    }\n",
       "\n",
       "    .dataframe tbody tr th {\n",
       "        vertical-align: top;\n",
       "    }\n",
       "\n",
       "    .dataframe thead th {\n",
       "        text-align: right;\n",
       "    }\n",
       "</style>\n",
       "<table border=\"1\" class=\"dataframe\">\n",
       "  <thead>\n",
       "    <tr style=\"text-align: right;\">\n",
       "      <th></th>\n",
       "      <th>acc_x</th>\n",
       "      <th>acc_y</th>\n",
       "      <th>acc_z</th>\n",
       "      <th>bvp</th>\n",
       "      <th>temp</th>\n",
       "      <th>time</th>\n",
       "      <th>label</th>\n",
       "    </tr>\n",
       "  </thead>\n",
       "  <tbody>\n",
       "    <tr>\n",
       "      <th>count</th>\n",
       "      <td>1448.000000</td>\n",
       "      <td>1448.000000</td>\n",
       "      <td>1448.000000</td>\n",
       "      <td>1448.000000</td>\n",
       "      <td>1448.000000</td>\n",
       "      <td>1448</td>\n",
       "      <td>1448.0</td>\n",
       "    </tr>\n",
       "    <tr>\n",
       "      <th>mean</th>\n",
       "      <td>51.137258</td>\n",
       "      <td>16.603419</td>\n",
       "      <td>-7.925414</td>\n",
       "      <td>0.001588</td>\n",
       "      <td>34.191160</td>\n",
       "      <td>0 days 01:22:24.375000</td>\n",
       "      <td>3.0</td>\n",
       "    </tr>\n",
       "    <tr>\n",
       "      <th>std</th>\n",
       "      <td>16.136967</td>\n",
       "      <td>25.653978</td>\n",
       "      <td>11.385627</td>\n",
       "      <td>37.433941</td>\n",
       "      <td>0.120436</td>\n",
       "      <td>0 days 00:01:44.536476887</td>\n",
       "      <td>0.0</td>\n",
       "    </tr>\n",
       "    <tr>\n",
       "      <th>min</th>\n",
       "      <td>-2.500000</td>\n",
       "      <td>-1.375000</td>\n",
       "      <td>-30.625000</td>\n",
       "      <td>-362.291250</td>\n",
       "      <td>34.000000</td>\n",
       "      <td>0 days 01:19:23.500000</td>\n",
       "      <td>3.0</td>\n",
       "    </tr>\n",
       "    <tr>\n",
       "      <th>25%</th>\n",
       "      <td>28.250000</td>\n",
       "      <td>0.000000</td>\n",
       "      <td>-17.656250</td>\n",
       "      <td>-14.073438</td>\n",
       "      <td>34.090000</td>\n",
       "      <td>0 days 01:20:53.937500</td>\n",
       "      <td>3.0</td>\n",
       "    </tr>\n",
       "    <tr>\n",
       "      <th>50%</th>\n",
       "      <td>60.000000</td>\n",
       "      <td>0.000000</td>\n",
       "      <td>-10.562500</td>\n",
       "      <td>1.577187</td>\n",
       "      <td>34.160000</td>\n",
       "      <td>0 days 01:22:24.375000</td>\n",
       "      <td>3.0</td>\n",
       "    </tr>\n",
       "    <tr>\n",
       "      <th>75%</th>\n",
       "      <td>62.625000</td>\n",
       "      <td>54.875000</td>\n",
       "      <td>-2.593750</td>\n",
       "      <td>14.918125</td>\n",
       "      <td>34.310000</td>\n",
       "      <td>0 days 01:23:54.812500</td>\n",
       "      <td>3.0</td>\n",
       "    </tr>\n",
       "    <tr>\n",
       "      <th>max</th>\n",
       "      <td>79.375000</td>\n",
       "      <td>60.750000</td>\n",
       "      <td>32.125000</td>\n",
       "      <td>250.553125</td>\n",
       "      <td>34.470000</td>\n",
       "      <td>0 days 01:25:25.250000</td>\n",
       "      <td>3.0</td>\n",
       "    </tr>\n",
       "  </tbody>\n",
       "</table>\n",
       "</div>"
      ],
      "text/plain": [
       "             acc_x        acc_y        acc_z          bvp         temp  \\\n",
       "count  1448.000000  1448.000000  1448.000000  1448.000000  1448.000000   \n",
       "mean     51.137258    16.603419    -7.925414     0.001588    34.191160   \n",
       "std      16.136967    25.653978    11.385627    37.433941     0.120436   \n",
       "min      -2.500000    -1.375000   -30.625000  -362.291250    34.000000   \n",
       "25%      28.250000     0.000000   -17.656250   -14.073438    34.090000   \n",
       "50%      60.000000     0.000000   -10.562500     1.577187    34.160000   \n",
       "75%      62.625000    54.875000    -2.593750    14.918125    34.310000   \n",
       "max      79.375000    60.750000    32.125000   250.553125    34.470000   \n",
       "\n",
       "                            time   label  \n",
       "count                       1448  1448.0  \n",
       "mean      0 days 01:22:24.375000     3.0  \n",
       "std    0 days 00:01:44.536476887     0.0  \n",
       "min       0 days 01:19:23.500000     3.0  \n",
       "25%       0 days 01:20:53.937500     3.0  \n",
       "50%       0 days 01:22:24.375000     3.0  \n",
       "75%       0 days 01:23:54.812500     3.0  \n",
       "max       0 days 01:25:25.250000     3.0  "
      ]
     },
     "execution_count": 23,
     "metadata": {},
     "output_type": "execute_result"
    }
   ],
   "source": [
    "df_final[df_final['label'] == 3].describe()"
   ]
  },
  {
   "cell_type": "markdown",
   "id": "570c1a90",
   "metadata": {
    "papermill": {
     "duration": 0.017534,
     "end_time": "2025-05-26T09:12:04.947480",
     "exception": false,
     "start_time": "2025-05-26T09:12:04.929946",
     "status": "completed"
    },
    "tags": []
   },
   "source": [
    "#### Status 4 (meditation)"
   ]
  },
  {
   "cell_type": "code",
   "execution_count": 24,
   "id": "d2dea25f",
   "metadata": {
    "execution": {
     "iopub.execute_input": "2025-05-26T09:12:04.985223Z",
     "iopub.status.busy": "2025-05-26T09:12:04.984859Z",
     "iopub.status.idle": "2025-05-26T09:12:05.011974Z",
     "shell.execute_reply": "2025-05-26T09:12:05.011020Z"
    },
    "papermill": {
     "duration": 0.046742,
     "end_time": "2025-05-26T09:12:05.013563",
     "exception": false,
     "start_time": "2025-05-26T09:12:04.966821",
     "status": "completed"
    },
    "tags": []
   },
   "outputs": [
    {
     "data": {
      "text/html": [
       "<div>\n",
       "<style scoped>\n",
       "    .dataframe tbody tr th:only-of-type {\n",
       "        vertical-align: middle;\n",
       "    }\n",
       "\n",
       "    .dataframe tbody tr th {\n",
       "        vertical-align: top;\n",
       "    }\n",
       "\n",
       "    .dataframe thead th {\n",
       "        text-align: right;\n",
       "    }\n",
       "</style>\n",
       "<table border=\"1\" class=\"dataframe\">\n",
       "  <thead>\n",
       "    <tr style=\"text-align: right;\">\n",
       "      <th></th>\n",
       "      <th>acc_x</th>\n",
       "      <th>acc_y</th>\n",
       "      <th>acc_z</th>\n",
       "      <th>bvp</th>\n",
       "      <th>temp</th>\n",
       "      <th>time</th>\n",
       "      <th>label</th>\n",
       "    </tr>\n",
       "  </thead>\n",
       "  <tbody>\n",
       "    <tr>\n",
       "      <th>count</th>\n",
       "      <td>3072.000000</td>\n",
       "      <td>3072.000000</td>\n",
       "      <td>3072.000000</td>\n",
       "      <td>3072.000000</td>\n",
       "      <td>3072.000000</td>\n",
       "      <td>3072</td>\n",
       "      <td>3072.0</td>\n",
       "    </tr>\n",
       "    <tr>\n",
       "      <th>mean</th>\n",
       "      <td>59.475789</td>\n",
       "      <td>11.279378</td>\n",
       "      <td>14.225952</td>\n",
       "      <td>-0.018997</td>\n",
       "      <td>34.085352</td>\n",
       "      <td>0 days 01:22:56.187500</td>\n",
       "      <td>4.0</td>\n",
       "    </tr>\n",
       "    <tr>\n",
       "      <th>std</th>\n",
       "      <td>2.646997</td>\n",
       "      <td>11.248975</td>\n",
       "      <td>2.808617</td>\n",
       "      <td>28.306326</td>\n",
       "      <td>0.353416</td>\n",
       "      <td>0 days 00:11:44.781500789</td>\n",
       "      <td>0.0</td>\n",
       "    </tr>\n",
       "    <tr>\n",
       "      <th>min</th>\n",
       "      <td>55.500000</td>\n",
       "      <td>-1.000000</td>\n",
       "      <td>8.250000</td>\n",
       "      <td>-401.242500</td>\n",
       "      <td>33.590000</td>\n",
       "      <td>0 days 01:08:17.500000</td>\n",
       "      <td>4.0</td>\n",
       "    </tr>\n",
       "    <tr>\n",
       "      <th>25%</th>\n",
       "      <td>56.875000</td>\n",
       "      <td>0.125000</td>\n",
       "      <td>12.000000</td>\n",
       "      <td>-11.780469</td>\n",
       "      <td>33.710000</td>\n",
       "      <td>0 days 01:11:29.437500</td>\n",
       "      <td>4.0</td>\n",
       "    </tr>\n",
       "    <tr>\n",
       "      <th>50%</th>\n",
       "      <td>61.875000</td>\n",
       "      <td>1.000000</td>\n",
       "      <td>12.000000</td>\n",
       "      <td>2.318437</td>\n",
       "      <td>34.070000</td>\n",
       "      <td>0 days 01:14:41.375000</td>\n",
       "      <td>4.0</td>\n",
       "    </tr>\n",
       "    <tr>\n",
       "      <th>75%</th>\n",
       "      <td>62.000000</td>\n",
       "      <td>23.000000</td>\n",
       "      <td>17.000000</td>\n",
       "      <td>11.469219</td>\n",
       "      <td>34.332500</td>\n",
       "      <td>0 days 01:34:41.312500</td>\n",
       "      <td>4.0</td>\n",
       "    </tr>\n",
       "    <tr>\n",
       "      <th>max</th>\n",
       "      <td>63.000000</td>\n",
       "      <td>23.125000</td>\n",
       "      <td>20.000000</td>\n",
       "      <td>355.120000</td>\n",
       "      <td>34.770000</td>\n",
       "      <td>0 days 01:37:53.250000</td>\n",
       "      <td>4.0</td>\n",
       "    </tr>\n",
       "  </tbody>\n",
       "</table>\n",
       "</div>"
      ],
      "text/plain": [
       "             acc_x        acc_y        acc_z          bvp         temp  \\\n",
       "count  3072.000000  3072.000000  3072.000000  3072.000000  3072.000000   \n",
       "mean     59.475789    11.279378    14.225952    -0.018997    34.085352   \n",
       "std       2.646997    11.248975     2.808617    28.306326     0.353416   \n",
       "min      55.500000    -1.000000     8.250000  -401.242500    33.590000   \n",
       "25%      56.875000     0.125000    12.000000   -11.780469    33.710000   \n",
       "50%      61.875000     1.000000    12.000000     2.318437    34.070000   \n",
       "75%      62.000000    23.000000    17.000000    11.469219    34.332500   \n",
       "max      63.000000    23.125000    20.000000   355.120000    34.770000   \n",
       "\n",
       "                            time   label  \n",
       "count                       3072  3072.0  \n",
       "mean      0 days 01:22:56.187500     4.0  \n",
       "std    0 days 00:11:44.781500789     0.0  \n",
       "min       0 days 01:08:17.500000     4.0  \n",
       "25%       0 days 01:11:29.437500     4.0  \n",
       "50%       0 days 01:14:41.375000     4.0  \n",
       "75%       0 days 01:34:41.312500     4.0  \n",
       "max       0 days 01:37:53.250000     4.0  "
      ]
     },
     "execution_count": 24,
     "metadata": {},
     "output_type": "execute_result"
    }
   ],
   "source": [
    "df_final[df_final['label'] == 4].describe()"
   ]
  },
  {
   "cell_type": "markdown",
   "id": "f26fedaa",
   "metadata": {
    "papermill": {
     "duration": 0.016052,
     "end_time": "2025-05-26T09:12:05.047585",
     "exception": false,
     "start_time": "2025-05-26T09:12:05.031533",
     "status": "completed"
    },
    "tags": []
   },
   "source": [
    "**Insight**\n",
    "\n",
    "Status 0 (not defined/transient)\n",
    "- ACC\n",
    "    - x:\n",
    "        - range: [-51.375, 94.000]\n",
    "        - mean: 34.421\n",
    "        - median: 36.250\n",
    "    - y:\n",
    "        - range: [-92.875, 61.750]\n",
    "        - mean: -1.378\n",
    "        - median: 3.750\n",
    "    - z:\n",
    "        - range: [-71.750, 86.625]\n",
    "        - mean: 28.076\n",
    "        - median: 28.375\n",
    "- BVP\n",
    "    - range: [-631.375, 533.926]\n",
    "    - mean: -0.004\n",
    "    - median: 1.795\n",
    "- Temp\n",
    "    - range: [32.310, 35.870]\n",
    "    - mean: 34.199\n",
    "    - median: 34.210\n",
    "\n",
    "Status 1 (baseline)\n",
    "- ACC\n",
    "    - x:\n",
    "        - range: [-26.500, 90.000]\n",
    "        - mean: 48.897\n",
    "        - median: 20.000\n",
    "    - y:\n",
    "        - range: [-95.125, 52/750]\n",
    "        - mean: 18.493\n",
    "        - median: 19.750\n",
    "    - z:\n",
    "        - range: [-55.500, 66.7500]\n",
    "        - mean: 6.488\n",
    "        - median: 19.750\n",
    "- BVP\n",
    "    - range: [-541.275, 427.279]\n",
    "    - mean: 0.007\n",
    "    - median: 1.843\n",
    "- Temp\n",
    "    - range: [35.500, 35.970]\n",
    "    - mean: 35.786\n",
    "    - median: 35.810\n",
    "\n",
    "Status 2 (stress)\n",
    "- ACC\n",
    "    - x:\n",
    "        - range: [8.500, 60.375]\n",
    "        - mean: 17.062\n",
    "        - median: 15.875\n",
    "    - y:\n",
    "        - range: [-82.625, -17.625]\n",
    "        - mean: -58.549\n",
    "        - median: -59.000\n",
    "    - z:\n",
    "        - range: [-16.250, 29.125]\n",
    "        - mean: 13.665\n",
    "        - median: 14.000\n",
    "- BVP\n",
    "    - range: [-504.448, 358.394]\n",
    "    - mean: 0.048\n",
    "    - median: 0.835\n",
    "- Temp\n",
    "    - range: [32.570, 34.110]\n",
    "    - mean: 33.442\n",
    "    - median: 33.500\n",
    "\n",
    "Status 3 (amusement)\n",
    "- ACC\n",
    "    - x:\n",
    "        - range: [-2.500, 79.375]\n",
    "        - mean: 51.137\n",
    "        - median: 60.000\n",
    "    - y:\n",
    "        - range: [-1.375, 60.750]\n",
    "        - mean: 16.603\n",
    "        - median: 0\n",
    "    - z:\n",
    "        - range: [-30.625, 32.125]\n",
    "        - mean: 7.925\n",
    "        - median: -10.562\n",
    "- BVP\n",
    "    - range: [-362.291, 250.553]\n",
    "    - mean: 0.001\n",
    "    - median: 1.577\n",
    "- Temp\n",
    "    - range: [34.000, 34.470]\n",
    "    - mean: 34.191\n",
    "    - median: 34.160\n",
    "\n",
    "Status 4 (meditation)\n",
    "- ACC\n",
    "    - x:\n",
    "        - range: [55.500, 63.000]\n",
    "        - mean: 59.475\n",
    "        - median: 61.875\n",
    "    - y:\n",
    "        - range: [=1.000, 23.125]\n",
    "        - mean: 11.279\n",
    "        - median: 1.000\n",
    "    - z:\n",
    "        - range: [8.250, 20.000]\n",
    "        - mean: 14.225\n",
    "        - median: 12.000\n",
    "- BVP\n",
    "    - range: [-401.242, 355.120]\n",
    "    - mean: -0.018\n",
    "    - median: 2.318\n",
    "- Temp\n",
    "    - range: [33.590, 34.770]\n",
    "    - mean: 34.085\n",
    "    - median: 34.070"
   ]
  },
  {
   "cell_type": "markdown",
   "id": "8e598544",
   "metadata": {
    "papermill": {
     "duration": 0.016523,
     "end_time": "2025-05-26T09:12:05.081960",
     "exception": false,
     "start_time": "2025-05-26T09:12:05.065437",
     "status": "completed"
    },
    "tags": []
   },
   "source": [
    "## Exporting Data"
   ]
  },
  {
   "cell_type": "code",
   "execution_count": 25,
   "id": "b5cef723",
   "metadata": {
    "execution": {
     "iopub.execute_input": "2025-05-26T09:12:05.119363Z",
     "iopub.status.busy": "2025-05-26T09:12:05.119019Z",
     "iopub.status.idle": "2025-05-26T09:12:05.557577Z",
     "shell.execute_reply": "2025-05-26T09:12:05.556661Z"
    },
    "papermill": {
     "duration": 0.459557,
     "end_time": "2025-05-26T09:12:05.559317",
     "exception": false,
     "start_time": "2025-05-26T09:12:05.099760",
     "status": "completed"
    },
    "tags": []
   },
   "outputs": [],
   "source": [
    "df_final.to_csv(\"/kaggle/working/wesad_s2_wrist_only.csv\")"
   ]
  }
 ],
 "metadata": {
  "kaggle": {
   "accelerator": "none",
   "dataSources": [
    {
     "datasetId": 7192727,
     "sourceId": 11476463,
     "sourceType": "datasetVersion"
    }
   ],
   "dockerImageVersionId": 31040,
   "isGpuEnabled": false,
   "isInternetEnabled": true,
   "language": "python",
   "sourceType": "notebook"
  },
  "kernelspec": {
   "display_name": "Python 3",
   "language": "python",
   "name": "python3"
  },
  "language_info": {
   "codemirror_mode": {
    "name": "ipython",
    "version": 3
   },
   "file_extension": ".py",
   "mimetype": "text/x-python",
   "name": "python",
   "nbconvert_exporter": "python",
   "pygments_lexer": "ipython3",
   "version": "3.11.11"
  },
  "papermill": {
   "default_parameters": {},
   "duration": 27.269268,
   "end_time": "2025-05-26T09:12:06.298040",
   "environment_variables": {},
   "exception": null,
   "input_path": "__notebook__.ipynb",
   "output_path": "__notebook__.ipynb",
   "parameters": {},
   "start_time": "2025-05-26T09:11:39.028772",
   "version": "2.6.0"
  }
 },
 "nbformat": 4,
 "nbformat_minor": 5
}
